{
 "cells": [
  {
   "cell_type": "code",
   "execution_count": 41,
   "metadata": {},
   "outputs": [],
   "source": [
    "#!pip install fastapi uvicorn supabase python-dotenv google-generativeai firecrawl-py faiss-cpu"
   ]
  },
  {
   "cell_type": "code",
   "execution_count": 42,
   "metadata": {},
   "outputs": [],
   "source": [
    "from fastapi import FastAPI, HTTPException, Request\n",
    "from fastapi.middleware.cors import CORSMiddleware\n",
    "import google.generativeai as genai\n",
    "import os\n",
    "from dotenv import load_dotenv\n",
    "import uvicorn\n",
    "import asyncio\n",
    "from supabase import create_client, Client\n",
    "from firecrawl import FirecrawlApp\n",
    "import logging\n",
    "from typing import List, Dict\n",
    "import numpy as np\n",
    "import json\n",
    "import faiss"
   ]
  },
  {
   "cell_type": "code",
   "execution_count": 43,
   "metadata": {},
   "outputs": [],
   "source": [
    "# Boilerplate. Load envs, load fastapi app, firecrawl, and configure gemini, supabase\n",
    "load_dotenv()\n",
    "app = FastAPI()\n",
    "fcapp = FirecrawlApp(api_key=os.getenv(\"FIRECRAWL_KEY\"))\n",
    "genai.configure(api_key=os.getenv(\"GEMINI_KEY\"))\n",
    "supabase_url = os.getenv(\"SUPABASE_URL\")\n",
    "supabase_key = os.getenv(\"SUPABASE_ANON_KEY\")\n",
    "supabase: Client = create_client(supabase_url, supabase_key)\n",
    "# Configure logging\n",
    "logging.basicConfig(level=logging.INFO, format='%(asctime)s - %(levelname)s - %(message)s')"
   ]
  },
  {
   "cell_type": "code",
   "execution_count": 44,
   "metadata": {},
   "outputs": [],
   "source": [
    "@app.get(\"/status/\")\n",
    "async def status():\n",
    "    return {\"status\":\"ok\"}"
   ]
  },
  {
   "cell_type": "code",
   "execution_count": 45,
   "metadata": {},
   "outputs": [],
   "source": [
    "generation_config = {\n",
    "    \"temperature\":1,\n",
    "    \"top_p\":0.95,\n",
    "    \"top_k\":64,\n",
    "    \"max_output_tokens\":8192,\n",
    "    \"response_mime_type\": \"text/plain\"\n",
    "}"
   ]
  },
  {
   "cell_type": "code",
   "execution_count": 46,
   "metadata": {},
   "outputs": [],
   "source": [
    "model = genai.GenerativeModel(\n",
    "    model_name=\"gemini-2.0-flash-exp\", # Using experimental model for best results. Use 1.5 flash if this ever goes out of public access\n",
    "    generation_config=generation_config,\n",
    "    system_instruction= \"\"\"You are a helpful assistant that generates concise summaries. Based on the following extracted markdown from a website, \n",
    "    generate a concise summary in 2-3 sentences. JUST GIVE THE SUMMARY NOTHING ELSE, do not start with 'Here is the summary' or anything like that.\"\"\"\n",
    ")"
   ]
  },
  {
   "cell_type": "code",
   "execution_count": 47,
   "metadata": {},
   "outputs": [],
   "source": [
    "@app.get(\"/hello/\")\n",
    "async def hello():\n",
    "    prompt=\"hello world\"\n",
    "    response = model.generate_content(prompt)\n",
    "    return {\"gemini\":response.text}"
   ]
  },
  {
   "cell_type": "code",
   "execution_count": 48,
   "metadata": {},
   "outputs": [],
   "source": [
    "async def extract_content(url: str) -> str:\n",
    "    \"\"\"Extract content from URL using Markdowner\"\"\"\n",
    "    try:\n",
    "        scrape_result=fcapp.scrape_url(url, params={'formats': ['markdown']})\n",
    "        if scrape_result:\n",
    "            return scrape_result[\"markdown\"]\n",
    "        else:\n",
    "            logging.error(f\"Failed to fetch content from {url} using firecrawl\")\n",
    "            raise HTTPException(status_code=500, detail=\"Firecrawl Extraction Failed\")\n",
    "    except Exception as e:\n",
    "        logging.error(f\"Error fetching data from {url}: {e}\")\n",
    "        raise HTTPException(status_code=500, detail=str(e))"
   ]
  },
  {
   "cell_type": "code",
   "execution_count": 49,
   "metadata": {},
   "outputs": [],
   "source": [
    "async def generate_summary(data: str) -> str:\n",
    "    \"\"\"Generate summary using Gemini\"\"\"\n",
    "    try:\n",
    "        summary = model.generate_content(f\"Extracted markdown data: {data}\").text\n",
    "        logging.info(f\"Successfully generated summary: {summary}\")\n",
    "        return summary\n",
    "    except Exception as e:\n",
    "        logging.error(f\"Error generating summary: {e}\")\n",
    "        raise HTTPException(status_code=500, detail=f\"Error generating summary: {str(e)}\")"
   ]
  },
  {
   "cell_type": "code",
   "execution_count": 50,
   "metadata": {},
   "outputs": [],
   "source": [
    "async def generate_embedding(summary: str, task_type: str = \"retrieval_document\") -> List[float]:  \n",
    "    \"\"\"Generate embedding using Gemini\"\"\"\n",
    "    try:\n",
    "        embedding_result = await asyncio.to_thread(\n",
    "            genai.embed_content,\n",
    "            model=\"models/text-embedding-004\",\n",
    "            content=summary,\n",
    "            task_type=task_type,\n",
    "            title=\"Embedding\"\n",
    "        )\n",
    "        logging.info(f\"Successfully generated embedding for summary: {summary}\")\n",
    "        return embedding_result['embedding']\n",
    "    except Exception as e:\n",
    "        logging.error(f\"Error generating embedding: {e}\")\n",
    "        raise HTTPException(status_code=500, detail=f\"Error generating embedding: {str(e)}\")"
   ]
  },
  {
   "cell_type": "code",
   "execution_count": 51,
   "metadata": {},
   "outputs": [
    {
     "name": "stderr",
     "output_type": "stream",
     "text": [
      "2025-01-23 01:24:42,388 - ERROR - Task exception was never retrieved\n",
      "future: <Task finished name='Task-14' coro=<Server.serve() done, defined at c:\\Users\\aksha\\.pyenv\\pyenv-win\\versions\\3.11.8\\Lib\\site-packages\\uvicorn\\server.py:67> exception=KeyboardInterrupt()>\n",
      "Traceback (most recent call last):\n",
      "  File \"c:\\Users\\aksha\\.pyenv\\pyenv-win\\versions\\3.11.8\\Lib\\site-packages\\uvicorn\\main.py\", line 577, in run\n",
      "    server.run()\n",
      "  File \"c:\\Users\\aksha\\.pyenv\\pyenv-win\\versions\\3.11.8\\Lib\\site-packages\\uvicorn\\server.py\", line 65, in run\n",
      "    return asyncio.run(self.serve(sockets=sockets))\n",
      "           ^^^^^^^^^^^^^^^^^^^^^^^^^^^^^^^^^^^^^^^^\n",
      "  File \"c:\\Users\\aksha\\.pyenv\\pyenv-win\\versions\\3.11.8\\Lib\\site-packages\\nest_asyncio.py\", line 30, in run\n",
      "    return loop.run_until_complete(task)\n",
      "           ^^^^^^^^^^^^^^^^^^^^^^^^^^^^^\n",
      "  File \"c:\\Users\\aksha\\.pyenv\\pyenv-win\\versions\\3.11.8\\Lib\\site-packages\\nest_asyncio.py\", line 92, in run_until_complete\n",
      "    self._run_once()\n",
      "  File \"c:\\Users\\aksha\\.pyenv\\pyenv-win\\versions\\3.11.8\\Lib\\site-packages\\nest_asyncio.py\", line 133, in _run_once\n",
      "    handle._run()\n",
      "  File \"c:\\Users\\aksha\\.pyenv\\pyenv-win\\versions\\3.11.8\\Lib\\asyncio\\events.py\", line 84, in _run\n",
      "    self._context.run(self._callback, *self._args)\n",
      "  File \"c:\\Users\\aksha\\.pyenv\\pyenv-win\\versions\\3.11.8\\Lib\\asyncio\\tasks.py\", line 360, in __wakeup\n",
      "    self.__step()\n",
      "  File \"c:\\Users\\aksha\\.pyenv\\pyenv-win\\versions\\3.11.8\\Lib\\asyncio\\tasks.py\", line 277, in __step\n",
      "    result = coro.send(None)\n",
      "             ^^^^^^^^^^^^^^^\n",
      "  File \"c:\\Users\\aksha\\.pyenv\\pyenv-win\\versions\\3.11.8\\Lib\\site-packages\\uvicorn\\server.py\", line 68, in serve\n",
      "    with self.capture_signals():\n",
      "  File \"c:\\Users\\aksha\\.pyenv\\pyenv-win\\versions\\3.11.8\\Lib\\contextlib.py\", line 144, in __exit__\n",
      "    next(self.gen)\n",
      "  File \"c:\\Users\\aksha\\.pyenv\\pyenv-win\\versions\\3.11.8\\Lib\\site-packages\\uvicorn\\server.py\", line 328, in capture_signals\n",
      "    signal.raise_signal(captured_signal)\n",
      "KeyboardInterrupt\n"
     ]
    }
   ],
   "source": [
    "@app.post(\"/summarize/\")\n",
    "async def summarize_url(data: Request):\n",
    "    \"\"\"\n",
    "    Endpoint to receive URL, extract content and return summary\n",
    "    Expects JSON: {\"url\": \"https://example.com\"}\n",
    "    \"\"\"\n",
    "    # Parse request body\n",
    "    request = await data.json()\n",
    "    \n",
    "    if \"url\" not in request:\n",
    "        logging.error(\"URL not provided in request\")\n",
    "        raise HTTPException(status_code=400, detail=\"URL not provided\")\n",
    "    \n",
    "    url = request[\"url\"]\n",
    "    logging.info(f\"Received request to summarize URL: {url}\")\n",
    "    \n",
    "    # Extract content using new endpoint\n",
    "    content = await extract_content(url)\n",
    "    \n",
    "    # Generate summary\n",
    "    summary = await generate_summary(content)\n",
    "    \n",
    "    # Generate embedding\n",
    "    embedding = await generate_embedding(summary)\n",
    "    \n",
    "    # Check if URL exists and insert if it doesn't\n",
    "    try:\n",
    "        # Check for existing URL\n",
    "        existing = supabase.table(\"links\").select(\"id\").eq(\"link\", url).execute()\n",
    "        \n",
    "        if existing.data:\n",
    "            # URL already exists, skip insertion\n",
    "            logging.info(f\"URL already exists in database: {url}\")\n",
    "            return {\"summary\": summary}\n",
    "            \n",
    "        # URL doesn't exist, proceed with insertion\n",
    "        result = supabase.table(\"links\").insert({\n",
    "            \"link\": url,\n",
    "            \"summary\": summary,\n",
    "            \"vector\": embedding\n",
    "        }).execute()\n",
    "        \n",
    "        if not result.data:\n",
    "            logging.error(f\"Failed to insert data into Supabase for URL: {url}\")\n",
    "            raise HTTPException(status_code=500, detail=\"Failed to insert data into Supabase\")\n",
    "            \n",
    "        logging.info(f\"Successfully inserted data for URL: {url}, data: {result.data}\")\n",
    "        \n",
    "    except Exception as e:\n",
    "        logging.error(f\"Supabase insertion error for URL: {url}, error: {str(e)}\")\n",
    "        raise HTTPException(status_code=500, detail=f\"Error inserting into database: {str(e)}\")\n",
    "    \n",
    "    return {\"summary\": summary}"
   ]
  },
  {
   "cell_type": "code",
   "execution_count": 52,
   "metadata": {},
   "outputs": [],
   "source": [
    "@app.post(\"/search/\")\n",
    "async def search(userquery: Request):\n",
    "    \"\"\"\n",
    "    Endpoint to search for similar links based on a query\n",
    "    expects: \n",
    "    {\n",
    "        \"query\":\"<query>\"\n",
    "        \"k\":<number>\n",
    "    }\n",
    "    \"\"\"\n",
    "    try:\n",
    "        request = await userquery.json()\n",
    "        query_text = request.get(\"query\")\n",
    "        k = request.get(\"k\")\n",
    "        # Generate embedding for the query\n",
    "        query_embedding = await asyncio.to_thread(\n",
    "            genai.embed_content,\n",
    "            model=\"models/text-embedding-004\",\n",
    "            content=query_text,\n",
    "            task_type=\"retrieval_query\",\n",
    "        )\n",
    "\n",
    "        # Fetch all vectors from the links table\n",
    "        response = supabase.table(\"links\").select(\"id, link, vector\").execute()\n",
    "        links = response.data\n",
    "\n",
    "        if not links:\n",
    "            logging.info(\"No links found in database\")\n",
    "            return {\"matches\": []}\n",
    "\n",
    "        # Prepare data for FAISS\n",
    "        vectors = []\n",
    "        ids = []\n",
    "        for link in links:\n",
    "            if link['vector'] is not None:\n",
    "                try:\n",
    "                    vector = json.loads(link['vector'])\n",
    "                    vectors.append(vector)\n",
    "                    ids.append(link['id'])\n",
    "                except json.JSONDecodeError:\n",
    "                    logging.error(f\"Error decoding vector for link {link['id']}\")\n",
    "\n",
    "        vectors = np.array(vectors, dtype=np.float32)\n",
    "\n",
    "        # Create FAISS index\n",
    "        dimension = len(query_embedding['embedding'])\n",
    "        index = faiss.IndexFlatL2(dimension)\n",
    "        index.add(vectors)\n",
    "\n",
    "        # Perform the search\n",
    "        distance, indices = index.search(np.array([query_embedding['embedding']], dtype=np.float32), k)\n",
    "\n",
    "        # Get the IDs of the closest matches\n",
    "        closest_matches = [ids[i] for i in indices[0]]\n",
    "        logging.info(f\"Search results for query '{query_text}': {closest_matches}\")\n",
    "        return {\"matches\": closest_matches}\n",
    "\n",
    "    except Exception as e:\n",
    "        logging.error(f\"Error during search: {e}\")\n",
    "        raise HTTPException(status_code=500, detail=f\"Error during search: {str(e)}\")"
   ]
  },
  {
   "cell_type": "code",
   "execution_count": 53,
   "metadata": {},
   "outputs": [
    {
     "name": "stderr",
     "output_type": "stream",
     "text": [
      "INFO:     Started server process [9192]\n",
      "INFO:     Waiting for application startup.\n",
      "INFO:     Application startup complete.\n",
      "INFO:     Uvicorn running on http://0.0.0.0:8000 (Press CTRL+C to quit)\n"
     ]
    },
    {
     "name": "stdout",
     "output_type": "stream",
     "text": [
      "INFO:     127.0.0.1:61353 - \"GET /hello/ HTTP/1.1\" 200 OK\n"
     ]
    },
    {
     "name": "stderr",
     "output_type": "stream",
     "text": [
      "INFO:     Shutting down\n",
      "INFO:     Waiting for application shutdown.\n",
      "INFO:     Application shutdown complete.\n",
      "INFO:     Finished server process [9192]\n"
     ]
    }
   ],
   "source": [
    "if __name__ == \"__main__\":\n",
    "    # Only using this for ipynb\n",
    "    import nest_asyncio\n",
    "    nest_asyncio.apply()\n",
    "    uvicorn.run(app, host=\"0.0.0.0\", port=8000)"
   ]
  }
 ],
 "metadata": {
  "kernelspec": {
   "display_name": "Python 3",
   "language": "python",
   "name": "python3"
  },
  "language_info": {
   "codemirror_mode": {
    "name": "ipython",
    "version": 3
   },
   "file_extension": ".py",
   "mimetype": "text/x-python",
   "name": "python",
   "nbconvert_exporter": "python",
   "pygments_lexer": "ipython3",
   "version": "3.11.8"
  }
 },
 "nbformat": 4,
 "nbformat_minor": 2
}
